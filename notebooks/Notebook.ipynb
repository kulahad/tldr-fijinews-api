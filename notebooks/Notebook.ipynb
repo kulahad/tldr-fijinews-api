{
 "cells": [
  {
   "cell_type": "code",
   "execution_count": 3,
   "metadata": {},
   "outputs": [],
   "source": [
    "import requests\n",
    "import re\n",
    "from bs4 import BeautifulSoup\n",
    "\n",
    "\n",
    "URL = \"https://fijivillage.com/news\"\n",
    "page = requests.get(URL)\n",
    "\n",
    "wholepage = BeautifulSoup(page.content, \"html.parser\")\n"
   ]
  },
  {
   "cell_type": "code",
   "execution_count": 48,
   "metadata": {},
   "outputs": [],
   "source": [
    "\n",
    "from __future__ import absolute_import\n",
    "from __future__ import division, print_function, unicode_literals\n",
    "\n",
    "from sumy.parsers.html import HtmlParser\n",
    "from sumy.parsers.plaintext import PlaintextParser\n",
    "from sumy.nlp.tokenizers import Tokenizer\n",
    "from sumy.summarizers.lsa import LsaSummarizer as Summarizer\n",
    "from sumy.nlp.stemmers import Stemmer\n",
    "from sumy.utils import get_stop_words\n",
    "\n",
    "\n",
    "\n",
    "LANGUAGE = \"english\"\n",
    "SENTENCES_COUNT = 3\n",
    "\n",
    "def summarizetext(text):\n",
    "    parser = PlaintextParser.from_string(text, Tokenizer(LANGUAGE))\n",
    "\n",
    "    \n",
    "    stemmer = Stemmer(LANGUAGE)\n",
    "    summarizer = Summarizer(stemmer)\n",
    "    summarizer.stop_words = get_stop_words(LANGUAGE)\n",
    "\n",
    "    paragraph = \"\"\n",
    "\n",
    "    for sentence in summarizer(parser.document, SENTENCES_COUNT):\n",
    "        paragraph += str(sentence)\n",
    "\n",
    "    return paragraph\n"
   ]
  },
  {
   "cell_type": "code",
   "execution_count": 50,
   "metadata": {},
   "outputs": [],
   "source": [
    "def extractinfo(divdata):\n",
    "    try:\n",
    "        soup = BeautifulSoup(str(divdata))\n",
    "        \n",
    "        # Extract the article URL and title\n",
    "        article_link = soup.find('a', href=True)\n",
    "        article_url = article_link['href'] if article_link else None\n",
    "        title_tag = soup.find('h6')\n",
    "        article_title = title_tag.text.strip() if title_tag else None\n",
    "        \n",
    "        # Extract the image URL\n",
    "        img_tag = soup.find('img')\n",
    "        image_url = img_tag.get('src') if img_tag else None\n",
    "\n",
    "        # get article from url\n",
    "        page = BeautifulSoup(requests.get(article_url).content, \"html.parser\")\n",
    "        article = page.find(\"div\", class_=\"news_reader\")\n",
    "\n",
    "        date_span = page.find('span', class_=\"greytime2\")\n",
    "        date = date_span.get_text().split(\" \")[1]\n",
    "        \n",
    "        summary = summarizetext(article.get_text())\n",
    "\n",
    "        \n",
    "        return {\n",
    "            'id':article_url,\n",
    "            'title': article_title,\n",
    "            'summary': summary,\n",
    "            'article_url': article_url,\n",
    "            'publish_time': date,\n",
    "            'image_url': image_url,\n",
    "        }\n",
    "    except Exception as e:\n",
    "        print(f\"Error parsing HTML snippet: {e}\")\n",
    "        return None"
   ]
  },
  {
   "cell_type": "code",
   "execution_count": 52,
   "metadata": {},
   "outputs": [
    {
     "name": "stdout",
     "output_type": "stream",
     "text": [
      "FICAC has referred the matter against its Commissioner Barbara Malimali to the Office of the Director of Public Prosecutions for further assessment while FICAC has closed five cases regarding a FijiFirst declaration, Voreqe Bainimarama, Aiyaz Sayed-Khaiyum and President Ratu Wiliame Katonivere.FICAC reiterates that the Commission is operating as usual and all processes and procedures remain unchanged.FICAC says it continues to handle every complaint, regardless of who the subject person is, with the scrutiny it deserves.\n"
     ]
    }
   ],
   "source": [
    "newsdivs = wholepage.find_all(\"div\", class_=\"col-md-4 pt-2\")[:1]\n",
    "news = []\n",
    "\n",
    "for div in newsdivs:\n",
    "    news.append(extractinfo(divdata=div))\n",
    "\n",
    "print(news[0][\"summary\"])"
   ]
  }
 ],
 "metadata": {
  "kernelspec": {
   "display_name": "Python 3",
   "language": "python",
   "name": "python3"
  },
  "language_info": {
   "codemirror_mode": {
    "name": "ipython",
    "version": 3
   },
   "file_extension": ".py",
   "mimetype": "text/x-python",
   "name": "python",
   "nbconvert_exporter": "python",
   "pygments_lexer": "ipython3",
   "version": "3.12.5"
  }
 },
 "nbformat": 4,
 "nbformat_minor": 2
}
